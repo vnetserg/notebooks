{
 "cells": [
  {
   "cell_type": "code",
   "execution_count": 42,
   "metadata": {
    "collapsed": true
   },
   "outputs": [],
   "source": [
    "%matplotlib inline\n",
    "import pandas as ps\n",
    "import numpy as np\n",
    "from matplotlib import pyplot as plt\n",
    "from sklearn.neighbors import KNeighborsClassifier\n",
    "from sklearn.ensemble import RandomForestClassifier\n",
    "from sklearn.linear_model import LogisticRegression\n",
    "from sklearn import cross_validation\n",
    "TRAIN_FILE = '/home/sergio/Data/titanic/train.csv'\n",
    "TEST_FILE = '/home/sergio/Data/titanic/test.csv'"
   ]
  },
  {
   "cell_type": "markdown",
   "metadata": {},
   "source": [
    "# Построение примитивной модели"
   ]
  },
  {
   "cell_type": "markdown",
   "metadata": {},
   "source": [
    "## Подготовка данных"
   ]
  },
  {
   "cell_type": "code",
   "execution_count": 48,
   "metadata": {
    "collapsed": false
   },
   "outputs": [],
   "source": [
    "class Transformer:\n",
    "    def __init__(self, fulldata):\n",
    "        self._age_maping = {(sex, cls): fulldata[(fulldata.Sex == sex) & (fulldata.Pclass == cls)].Age.median()\n",
    "                                      for sex in [\"male\", \"female\"] for cls in range(1,4)}\n",
    "        self._codes = {}\n",
    "    \n",
    "    def apply(self, data):\n",
    "        data.Age = [self._age_maping[(row.Sex,row.Pclass)] if np.isnan(row.Age) else row.Age\n",
    "                    for ind, row in data.iterrows()]\n",
    "        data = data.drop([\"PassengerId\", \"Name\", \"Ticket\", \"Cabin\"], axis=1)\n",
    "        data.Embarked.fillna(\"S\", inplace=True)\n",
    "        data.Embarked = encode(data.Embarked)\n",
    "        data.Sex = encode(data.Sex)\n",
    "        data.Fare.fillna(0, inplace=True)\n",
    "        return data\n",
    "\n",
    "    def encode(self, data, column):\n",
    "        values = series.drop_duplicates()\n",
    "        if self._codes.has_key(column):\n",
    "            mapping = self._codes[column]\n",
    "            for val in values:\n",
    "                if not mapping.has_key(val):\n",
    "                    mapping[val] = len(self.mapping)\n",
    "        else:\n",
    "            mapping = {v: i for i, v in enumerate(sorted(values))}\n",
    "            self._codes[column] = mapping\n",
    "        data[column] = [mapping[v] for v in series]\n",
    "        return data"
   ]
  },
  {
   "cell_type": "code",
   "execution_count": 49,
   "metadata": {
    "collapsed": false
   },
   "outputs": [],
   "source": [
    "def get_data():\n",
    "    data = ps.read_csv(TRAIN_FILE)\n",
    "    test = ps.read_csv(TEST_FILE)\n",
    "    train = data.drop(['Survived'], axis=1)\n",
    "    target = data.Survived\n",
    "    fulldata = ps.concat([train, test])\n",
    "    trans = Transformer(fulldata)\n",
    "    return trans.apply(train), target, trans.apply(test)\n",
    "\n",
    "train, target, test = get_data()"
   ]
  },
  {
   "cell_type": "markdown",
   "metadata": {},
   "source": [
    "## Построение и оценка моделей"
   ]
  },
  {
   "cell_type": "code",
   "execution_count": 59,
   "metadata": {
    "collapsed": false
   },
   "outputs": [
    {
     "name": "stdout",
     "output_type": "stream",
     "text": [
      "RandomForestClassifier: 0.81 (+/- 0.03)\n",
      "LogisticRegression: 0.80 (+/- 0.01)\n"
     ]
    }
   ],
   "source": [
    "models = [\n",
    "    RandomForestClassifier(n_estimators = 80, max_features='auto', criterion='entropy', max_depth=4),\n",
    "    LogisticRegression(penalty='l1', tol=0.01)\n",
    "]\n",
    "for mdl in models:\n",
    "    scores = cross_validation.cross_val_score(mdl, train, target, cv=3)\n",
    "    print(\"{}: {:.2f} (+/- {:.2f})\".format(mdl.__class__.__name__, scores.mean(), scores.std() * 2))"
   ]
  },
  {
   "cell_type": "markdown",
   "metadata": {},
   "source": [
    "Выбираем логистическую регрессию. Экспортируем результаты:"
   ]
  },
  {
   "cell_type": "code",
   "execution_count": 54,
   "metadata": {
    "collapsed": true
   },
   "outputs": [],
   "source": [
    "model = RandomForestClassifier()\n",
    "model.fit(train, target)\n",
    "result = ps.DataFrame()\n",
    "result.insert(0, \"PassengerId\", range(892, 1310))\n",
    "result.insert(1, \"Survived\", model.predict(test))\n",
    "result.to_csv(\"results/trivial-rfc.csv\", index=False)"
   ]
  },
  {
   "cell_type": "markdown",
   "metadata": {},
   "source": [
    "Данная модель даёт результат в 0.74641 с логистической регрессией и 0.75120 методом Random Forest."
   ]
  }
 ],
 "metadata": {
  "kernelspec": {
   "display_name": "Python 3",
   "language": "python",
   "name": "python3"
  },
  "language_info": {
   "codemirror_mode": {
    "name": "ipython",
    "version": 3
   },
   "file_extension": ".py",
   "mimetype": "text/x-python",
   "name": "python",
   "nbconvert_exporter": "python",
   "pygments_lexer": "ipython3",
   "version": "3.4.3"
  }
 },
 "nbformat": 4,
 "nbformat_minor": 0
}
